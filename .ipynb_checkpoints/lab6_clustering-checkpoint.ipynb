{
 "cells": [
  {
   "cell_type": "code",
   "execution_count": 1,
   "metadata": {
    "collapsed": true
   },
   "outputs": [],
   "source": [
    "import pandas as pd\n",
    "from numpy import *\n",
    "import numpy as np"
   ]
  },
  {
   "cell_type": "code",
   "execution_count": 2,
   "metadata": {},
   "outputs": [
    {
     "data": {
      "text/html": [
       "<div>\n",
       "<style scoped>\n",
       "    .dataframe tbody tr th:only-of-type {\n",
       "        vertical-align: middle;\n",
       "    }\n",
       "\n",
       "    .dataframe tbody tr th {\n",
       "        vertical-align: top;\n",
       "    }\n",
       "\n",
       "    .dataframe thead th {\n",
       "        text-align: right;\n",
       "    }\n",
       "</style>\n",
       "<table border=\"1\" class=\"dataframe\">\n",
       "  <thead>\n",
       "    <tr style=\"text-align: right;\">\n",
       "      <th></th>\n",
       "      <th>assists_per_minuteReal</th>\n",
       "      <th>heightInteger</th>\n",
       "      <th>time_playedReal</th>\n",
       "      <th>ageInteger</th>\n",
       "      <th>points_per_minuteReal</th>\n",
       "    </tr>\n",
       "  </thead>\n",
       "  <tbody>\n",
       "    <tr>\n",
       "      <th>0</th>\n",
       "      <td>0.0888</td>\n",
       "      <td>201</td>\n",
       "      <td>36.02</td>\n",
       "      <td>28</td>\n",
       "      <td>0.5885</td>\n",
       "    </tr>\n",
       "    <tr>\n",
       "      <th>1</th>\n",
       "      <td>0.1399</td>\n",
       "      <td>198</td>\n",
       "      <td>39.32</td>\n",
       "      <td>30</td>\n",
       "      <td>0.8291</td>\n",
       "    </tr>\n",
       "    <tr>\n",
       "      <th>2</th>\n",
       "      <td>0.0747</td>\n",
       "      <td>198</td>\n",
       "      <td>38.80</td>\n",
       "      <td>26</td>\n",
       "      <td>0.4974</td>\n",
       "    </tr>\n",
       "    <tr>\n",
       "      <th>3</th>\n",
       "      <td>0.0983</td>\n",
       "      <td>191</td>\n",
       "      <td>40.71</td>\n",
       "      <td>30</td>\n",
       "      <td>0.5772</td>\n",
       "    </tr>\n",
       "    <tr>\n",
       "      <th>4</th>\n",
       "      <td>0.1276</td>\n",
       "      <td>196</td>\n",
       "      <td>38.40</td>\n",
       "      <td>28</td>\n",
       "      <td>0.5703</td>\n",
       "    </tr>\n",
       "  </tbody>\n",
       "</table>\n",
       "</div>"
      ],
      "text/plain": [
       "   assists_per_minuteReal  heightInteger  time_playedReal  ageInteger  \\\n",
       "0                  0.0888            201            36.02          28   \n",
       "1                  0.1399            198            39.32          30   \n",
       "2                  0.0747            198            38.80          26   \n",
       "3                  0.0983            191            40.71          30   \n",
       "4                  0.1276            196            38.40          28   \n",
       "\n",
       "   points_per_minuteReal  \n",
       "0                 0.5885  \n",
       "1                 0.8291  \n",
       "2                 0.4974  \n",
       "3                 0.5772  \n",
       "4                 0.5703  "
      ]
     },
     "execution_count": 2,
     "metadata": {},
     "output_type": "execute_result"
    }
   ],
   "source": [
    "a = pd.read_csv('basketball.csv',encoding='gb2312')\n",
    "a.head()"
   ]
  },
  {
   "cell_type": "code",
   "execution_count": 3,
   "metadata": {},
   "outputs": [
    {
     "data": {
      "text/html": [
       "<div>\n",
       "<style scoped>\n",
       "    .dataframe tbody tr th:only-of-type {\n",
       "        vertical-align: middle;\n",
       "    }\n",
       "\n",
       "    .dataframe tbody tr th {\n",
       "        vertical-align: top;\n",
       "    }\n",
       "\n",
       "    .dataframe thead th {\n",
       "        text-align: right;\n",
       "    }\n",
       "</style>\n",
       "<table border=\"1\" class=\"dataframe\">\n",
       "  <thead>\n",
       "    <tr style=\"text-align: right;\">\n",
       "      <th></th>\n",
       "      <th>assists_per_minuteReal</th>\n",
       "      <th>heightInteger</th>\n",
       "      <th>time_playedReal</th>\n",
       "      <th>ageInteger</th>\n",
       "      <th>points_per_minuteReal</th>\n",
       "    </tr>\n",
       "  </thead>\n",
       "  <tbody>\n",
       "    <tr>\n",
       "      <th>count</th>\n",
       "      <td>96.000000</td>\n",
       "      <td>96.000000</td>\n",
       "      <td>96.000000</td>\n",
       "      <td>96.000000</td>\n",
       "      <td>96.000000</td>\n",
       "    </tr>\n",
       "    <tr>\n",
       "      <th>mean</th>\n",
       "      <td>0.161289</td>\n",
       "      <td>189.875000</td>\n",
       "      <td>25.944375</td>\n",
       "      <td>27.739583</td>\n",
       "      <td>0.420268</td>\n",
       "    </tr>\n",
       "    <tr>\n",
       "      <th>std</th>\n",
       "      <td>0.059793</td>\n",
       "      <td>6.960414</td>\n",
       "      <td>8.621110</td>\n",
       "      <td>3.325325</td>\n",
       "      <td>0.108863</td>\n",
       "    </tr>\n",
       "    <tr>\n",
       "      <th>min</th>\n",
       "      <td>0.049400</td>\n",
       "      <td>160.000000</td>\n",
       "      <td>10.080000</td>\n",
       "      <td>22.000000</td>\n",
       "      <td>0.159300</td>\n",
       "    </tr>\n",
       "    <tr>\n",
       "      <th>25%</th>\n",
       "      <td>0.109825</td>\n",
       "      <td>185.000000</td>\n",
       "      <td>18.852500</td>\n",
       "      <td>25.000000</td>\n",
       "      <td>0.338425</td>\n",
       "    </tr>\n",
       "    <tr>\n",
       "      <th>50%</th>\n",
       "      <td>0.158400</td>\n",
       "      <td>191.000000</td>\n",
       "      <td>25.710000</td>\n",
       "      <td>27.000000</td>\n",
       "      <td>0.428250</td>\n",
       "    </tr>\n",
       "    <tr>\n",
       "      <th>75%</th>\n",
       "      <td>0.209475</td>\n",
       "      <td>196.000000</td>\n",
       "      <td>33.935000</td>\n",
       "      <td>30.000000</td>\n",
       "      <td>0.483075</td>\n",
       "    </tr>\n",
       "    <tr>\n",
       "      <th>max</th>\n",
       "      <td>0.343700</td>\n",
       "      <td>203.000000</td>\n",
       "      <td>40.710000</td>\n",
       "      <td>37.000000</td>\n",
       "      <td>0.829100</td>\n",
       "    </tr>\n",
       "  </tbody>\n",
       "</table>\n",
       "</div>"
      ],
      "text/plain": [
       "       assists_per_minuteReal  heightInteger  time_playedReal  ageInteger  \\\n",
       "count               96.000000      96.000000        96.000000   96.000000   \n",
       "mean                 0.161289     189.875000        25.944375   27.739583   \n",
       "std                  0.059793       6.960414         8.621110    3.325325   \n",
       "min                  0.049400     160.000000        10.080000   22.000000   \n",
       "25%                  0.109825     185.000000        18.852500   25.000000   \n",
       "50%                  0.158400     191.000000        25.710000   27.000000   \n",
       "75%                  0.209475     196.000000        33.935000   30.000000   \n",
       "max                  0.343700     203.000000        40.710000   37.000000   \n",
       "\n",
       "       points_per_minuteReal  \n",
       "count              96.000000  \n",
       "mean                0.420268  \n",
       "std                 0.108863  \n",
       "min                 0.159300  \n",
       "25%                 0.338425  \n",
       "50%                 0.428250  \n",
       "75%                 0.483075  \n",
       "max                 0.829100  "
      ]
     },
     "execution_count": 3,
     "metadata": {},
     "output_type": "execute_result"
    }
   ],
   "source": [
    "a.describe()"
   ]
  },
  {
   "cell_type": "code",
   "execution_count": 4,
   "metadata": {
    "collapsed": true
   },
   "outputs": [],
   "source": [
    "del a['heightInteger']\n",
    "del a['time_playedReal']\n",
    "del a['ageInteger']\n",
    "X = a\n",
    "x = a.assists_per_minuteReal\n",
    "y = a.points_per_minuteReal"
   ]
  },
  {
   "cell_type": "code",
   "execution_count": 5,
   "metadata": {},
   "outputs": [
    {
     "name": "stdout",
     "output_type": "stream",
     "text": [
      "KMeans(algorithm='auto', copy_x=True, init='k-means++', max_iter=300,\n",
      "    n_clusters=3, n_init=10, n_jobs=1, precompute_distances='auto',\n",
      "    random_state=None, tol=0.0001, verbose=0)\n",
      "[0 0 0 0 0 0 0 0 2 2 2 0 0 0 2 0 2 0 0 2 2 2 0 2 0 0 2 2 2 2 2 2 0 2 2 2 0\n",
      " 2 2 2 2 1 1 1 2 2 2 1 2 1 1 2 2 0 2 2 1 1 2 1 0 2 1 1 1 2 1 1 1 1 2 2 2 2\n",
      " 2 1 1 1 2 1 1 2 1 1 2 1 2 2 1 2 0 1 1 1 2 1]\n"
     ]
    },
    {
     "data": {
      "image/png": "[encoded data removed]",
      "text/plain": [
       "<matplotlib.figure.Figure at 0x113f5fd68>"
      ]
     },
     "metadata": {},
     "output_type": "display_data"
    }
   ],
   "source": [
    "from sklearn.cluster import Birch    \n",
    "from sklearn.cluster import KMeans \n",
    "\n",
    "clf = KMeans(n_clusters=3)    \n",
    "y_pred = clf.fit_predict(X)    \n",
    "print(clf)     \n",
    "print(y_pred)    \n",
    "\n",
    "import numpy as np    \n",
    "import matplotlib.pyplot as plt  \n",
    "plt.scatter(x, y, c=y_pred, marker='x')     \n",
    "plt.title(\"Kmeans-Basketball Data\")     \n",
    "plt.xlabel(\"assists_per_minute\")    \n",
    "plt.ylabel(\"points_per_minute\")    \n",
    "plt.legend([\"Rank\"])     \n",
    "plt.show()    "
   ]
  },
  {
   "cell_type": "code",
   "execution_count": null,
   "metadata": {
    "collapsed": true
   },
   "outputs": [],
   "source": []
  }
 ],
 "metadata": {
  "kernelspec": {
   "display_name": "Python 3",
   "language": "python",
   "name": "python3"
  },
  "language_info": {
   "codemirror_mode": {
    "name": "ipython",
    "version": 3
   },
   "file_extension": ".py",
   "mimetype": "text/x-python",
   "name": "python",
   "nbconvert_exporter": "python",
   "pygments_lexer": "ipython3",
   "version": "3.6.5"
  }
 },
 "nbformat": 4,
 "nbformat_minor": 2
}
